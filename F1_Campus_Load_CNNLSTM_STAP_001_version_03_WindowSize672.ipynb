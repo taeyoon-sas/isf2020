{
  "nbformat": 4,
  "nbformat_minor": 0,
  "metadata": {
    "accelerator": "GPU",
    "colab": {
      "name": "F1_Campus_Load_CNNLSTM_STAP_001_version_03_WindowSize672.ipynb",
      "provenance": [],
      "collapsed_sections": [],
      "machine_shape": "hm"
    },
    "kernelspec": {
      "display_name": "Python 3",
      "language": "python",
      "name": "python3"
    },
    "language_info": {
      "codemirror_mode": {
        "name": "ipython",
        "version": 3
      },
      "file_extension": ".py",
      "mimetype": "text/x-python",
      "name": "python",
      "nbconvert_exporter": "python",
      "pygments_lexer": "ipython3",
      "version": "3.7.3"
    }
  },
  "cells": [
    {
      "cell_type": "code",
      "metadata": {
        "id": "KPN2umzRNiBQ",
        "outputId": "f5bebc71-9f63-4c7d-8fa3-9e1ea2cb4e69",
        "colab": {
          "base_uri": "https://localhost:8080/",
          "height": 52
        }
      },
      "source": [
        "from google.colab import drive\n",
        "drive.mount('/content/drive')\n",
        "!pwd"
      ],
      "execution_count": null,
      "outputs": [
        {
          "output_type": "stream",
          "text": [
            "Drive already mounted at /content/drive; to attempt to forcibly remount, call drive.mount(\"/content/drive\", force_remount=True).\n",
            "/content\n"
          ],
          "name": "stdout"
        }
      ]
    },
    {
      "cell_type": "code",
      "metadata": {
        "id": "JxVq5YHfNtcq",
        "outputId": "c73d1be5-7dc7-4e25-d6c6-c8e76c4fee63",
        "colab": {
          "base_uri": "https://localhost:8080/",
          "height": 35
        }
      },
      "source": [
        "!ls"
      ],
      "execution_count": null,
      "outputs": [
        {
          "output_type": "stream",
          "text": [
            "drive  sample_data\n"
          ],
          "name": "stdout"
        }
      ]
    },
    {
      "cell_type": "code",
      "metadata": {
        "id": "IbMtMNEtN8ag",
        "outputId": "8bfa9355-e0e8-4078-93a2-cc6f2c22bf8d",
        "colab": {
          "base_uri": "https://localhost:8080/",
          "height": 35
        }
      },
      "source": [
        "pwd\n"
      ],
      "execution_count": null,
      "outputs": [
        {
          "output_type": "execute_result",
          "data": {
            "application/vnd.google.colaboratory.intrinsic+json": {
              "type": "string"
            },
            "text/plain": [
              "'/content'"
            ]
          },
          "metadata": {
            "tags": []
          },
          "execution_count": 42
        }
      ]
    },
    {
      "cell_type": "code",
      "metadata": {
        "id": "_H3M2IK-OiYf"
      },
      "source": [
        "!pip install -q keras"
      ],
      "execution_count": null,
      "outputs": []
    },
    {
      "cell_type": "code",
      "metadata": {
        "id": "_mIP46wLOqRm"
      },
      "source": [
        "import keras\n",
        "data_path = '/content/drive/My Drive/Colab Notebooks/data/isf2020_load_solar_data_20200326_T2_final.csv'"
      ],
      "execution_count": null,
      "outputs": []
    },
    {
      "cell_type": "code",
      "metadata": {
        "id": "hXmfKfaRO9ud",
        "outputId": "7556947f-5b4b-46e3-8568-2567e05c467d",
        "colab": {
          "base_uri": "https://localhost:8080/",
          "height": 129
        }
      },
      "source": [
        "import pandas as pd\n",
        "# df = pd.read_csv(data_path, index_col='dattim')\n",
        "df = pd.read_csv(data_path)\n",
        "df.head(1)"
      ],
      "execution_count": null,
      "outputs": [
        {
          "output_type": "execute_result",
          "data": {
            "text/html": [
              "<div>\n",
              "<style scoped>\n",
              "    .dataframe tbody tr th:only-of-type {\n",
              "        vertical-align: middle;\n",
              "    }\n",
              "\n",
              "    .dataframe tbody tr th {\n",
              "        vertical-align: top;\n",
              "    }\n",
              "\n",
              "    .dataframe thead th {\n",
              "        text-align: right;\n",
              "    }\n",
              "</style>\n",
              "<table border=\"1\" class=\"dataframe\">\n",
              "  <thead>\n",
              "    <tr style=\"text-align: right;\">\n",
              "      <th></th>\n",
              "      <th>dttm</th>\n",
              "      <th>load</th>\n",
              "      <th>t0_p1</th>\n",
              "      <th>t1_p1</th>\n",
              "      <th>t2_p1</th>\n",
              "      <th>t3_p1</th>\n",
              "      <th>t0_p2</th>\n",
              "      <th>t1_p2</th>\n",
              "      <th>t2_p2</th>\n",
              "      <th>t3_p2</th>\n",
              "      <th>t0_p3</th>\n",
              "      <th>t1_p3</th>\n",
              "      <th>t2_p3</th>\n",
              "      <th>t3_p3</th>\n",
              "      <th>trend</th>\n",
              "      <th>weekdayhour11</th>\n",
              "      <th>weekdayhour12</th>\n",
              "      <th>weekdayhour13</th>\n",
              "      <th>weekdayhour14</th>\n",
              "      <th>weekdayhour15</th>\n",
              "      <th>weekdayhour16</th>\n",
              "      <th>weekdayhour17</th>\n",
              "      <th>weekdayhour18</th>\n",
              "      <th>weekdayhour19</th>\n",
              "      <th>weekdayhour110</th>\n",
              "      <th>weekdayhour111</th>\n",
              "      <th>weekdayhour112</th>\n",
              "      <th>weekdayhour113</th>\n",
              "      <th>weekdayhour114</th>\n",
              "      <th>weekdayhour115</th>\n",
              "      <th>weekdayhour116</th>\n",
              "      <th>weekdayhour117</th>\n",
              "      <th>weekdayhour118</th>\n",
              "      <th>weekdayhour119</th>\n",
              "      <th>weekdayhour120</th>\n",
              "      <th>weekdayhour121</th>\n",
              "      <th>weekdayhour122</th>\n",
              "      <th>weekdayhour123</th>\n",
              "      <th>weekdayhour124</th>\n",
              "      <th>weekdayhour21</th>\n",
              "      <th>...</th>\n",
              "      <th>t2_p2hour9</th>\n",
              "      <th>t2_p2hour10</th>\n",
              "      <th>t2_p2hour11</th>\n",
              "      <th>t2_p2hour12</th>\n",
              "      <th>t2_p2hour13</th>\n",
              "      <th>t2_p2hour14</th>\n",
              "      <th>t2_p2hour15</th>\n",
              "      <th>t2_p2hour16</th>\n",
              "      <th>t2_p2hour17</th>\n",
              "      <th>t2_p2hour18</th>\n",
              "      <th>t2_p2hour19</th>\n",
              "      <th>t2_p2hour20</th>\n",
              "      <th>t2_p2hour21</th>\n",
              "      <th>t2_p2hour22</th>\n",
              "      <th>t2_p2hour23</th>\n",
              "      <th>t2_p2hour24</th>\n",
              "      <th>t2_p3hour1</th>\n",
              "      <th>t2_p3hour2</th>\n",
              "      <th>t2_p3hour3</th>\n",
              "      <th>t2_p3hour4</th>\n",
              "      <th>t2_p3hour5</th>\n",
              "      <th>t2_p3hour6</th>\n",
              "      <th>t2_p3hour7</th>\n",
              "      <th>t2_p3hour8</th>\n",
              "      <th>t2_p3hour9</th>\n",
              "      <th>t2_p3hour10</th>\n",
              "      <th>t2_p3hour11</th>\n",
              "      <th>t2_p3hour12</th>\n",
              "      <th>t2_p3hour13</th>\n",
              "      <th>t2_p3hour14</th>\n",
              "      <th>t2_p3hour15</th>\n",
              "      <th>t2_p3hour16</th>\n",
              "      <th>t2_p3hour17</th>\n",
              "      <th>t2_p3hour18</th>\n",
              "      <th>t2_p3hour19</th>\n",
              "      <th>t2_p3hour20</th>\n",
              "      <th>t2_p3hour21</th>\n",
              "      <th>t2_p3hour22</th>\n",
              "      <th>t2_p3hour23</th>\n",
              "      <th>t2_p3hour24</th>\n",
              "    </tr>\n",
              "  </thead>\n",
              "  <tbody>\n",
              "    <tr>\n",
              "      <th>0</th>\n",
              "      <td>06JAN2019:01:00:00</td>\n",
              "      <td>404.75</td>\n",
              "      <td>51.0</td>\n",
              "      <td>NaN</td>\n",
              "      <td>NaN</td>\n",
              "      <td>NaN</td>\n",
              "      <td>2601.0</td>\n",
              "      <td>NaN</td>\n",
              "      <td>NaN</td>\n",
              "      <td>NaN</td>\n",
              "      <td>132651.0</td>\n",
              "      <td>NaN</td>\n",
              "      <td>NaN</td>\n",
              "      <td>NaN</td>\n",
              "      <td>NaN</td>\n",
              "      <td>NaN</td>\n",
              "      <td>NaN</td>\n",
              "      <td>NaN</td>\n",
              "      <td>NaN</td>\n",
              "      <td>NaN</td>\n",
              "      <td>NaN</td>\n",
              "      <td>NaN</td>\n",
              "      <td>NaN</td>\n",
              "      <td>NaN</td>\n",
              "      <td>NaN</td>\n",
              "      <td>NaN</td>\n",
              "      <td>NaN</td>\n",
              "      <td>NaN</td>\n",
              "      <td>NaN</td>\n",
              "      <td>NaN</td>\n",
              "      <td>NaN</td>\n",
              "      <td>NaN</td>\n",
              "      <td>NaN</td>\n",
              "      <td>NaN</td>\n",
              "      <td>NaN</td>\n",
              "      <td>NaN</td>\n",
              "      <td>NaN</td>\n",
              "      <td>NaN</td>\n",
              "      <td>NaN</td>\n",
              "      <td>NaN</td>\n",
              "      <td>...</td>\n",
              "      <td>NaN</td>\n",
              "      <td>NaN</td>\n",
              "      <td>NaN</td>\n",
              "      <td>NaN</td>\n",
              "      <td>NaN</td>\n",
              "      <td>NaN</td>\n",
              "      <td>NaN</td>\n",
              "      <td>NaN</td>\n",
              "      <td>NaN</td>\n",
              "      <td>NaN</td>\n",
              "      <td>NaN</td>\n",
              "      <td>NaN</td>\n",
              "      <td>NaN</td>\n",
              "      <td>NaN</td>\n",
              "      <td>NaN</td>\n",
              "      <td>NaN</td>\n",
              "      <td>NaN</td>\n",
              "      <td>NaN</td>\n",
              "      <td>NaN</td>\n",
              "      <td>NaN</td>\n",
              "      <td>NaN</td>\n",
              "      <td>NaN</td>\n",
              "      <td>NaN</td>\n",
              "      <td>NaN</td>\n",
              "      <td>NaN</td>\n",
              "      <td>NaN</td>\n",
              "      <td>NaN</td>\n",
              "      <td>NaN</td>\n",
              "      <td>NaN</td>\n",
              "      <td>NaN</td>\n",
              "      <td>NaN</td>\n",
              "      <td>NaN</td>\n",
              "      <td>NaN</td>\n",
              "      <td>NaN</td>\n",
              "      <td>NaN</td>\n",
              "      <td>NaN</td>\n",
              "      <td>NaN</td>\n",
              "      <td>NaN</td>\n",
              "      <td>NaN</td>\n",
              "      <td>NaN</td>\n",
              "    </tr>\n",
              "  </tbody>\n",
              "</table>\n",
              "<p>1 rows × 519 columns</p>\n",
              "</div>"
            ],
            "text/plain": [
              "                 dttm    load  t0_p1  ...  t2_p3hour22  t2_p3hour23  t2_p3hour24\n",
              "0  06JAN2019:01:00:00  404.75   51.0  ...          NaN          NaN          NaN\n",
              "\n",
              "[1 rows x 519 columns]"
            ]
          },
          "metadata": {
            "tags": []
          },
          "execution_count": 45
        }
      ]
    },
    {
      "cell_type": "code",
      "metadata": {
        "id": "wFQKpbXQP6Fu",
        "outputId": "34700afe-5fe2-4019-fe85-f23de4dfa0b8",
        "colab": {
          "base_uri": "https://localhost:8080/",
          "height": 129
        }
      },
      "source": [
        "df.tail(1)"
      ],
      "execution_count": null,
      "outputs": [
        {
          "output_type": "execute_result",
          "data": {
            "text/html": [
              "<div>\n",
              "<style scoped>\n",
              "    .dataframe tbody tr th:only-of-type {\n",
              "        vertical-align: middle;\n",
              "    }\n",
              "\n",
              "    .dataframe tbody tr th {\n",
              "        vertical-align: top;\n",
              "    }\n",
              "\n",
              "    .dataframe thead th {\n",
              "        text-align: right;\n",
              "    }\n",
              "</style>\n",
              "<table border=\"1\" class=\"dataframe\">\n",
              "  <thead>\n",
              "    <tr style=\"text-align: right;\">\n",
              "      <th></th>\n",
              "      <th>dttm</th>\n",
              "      <th>load</th>\n",
              "      <th>t0_p1</th>\n",
              "      <th>t1_p1</th>\n",
              "      <th>t2_p1</th>\n",
              "      <th>t3_p1</th>\n",
              "      <th>t0_p2</th>\n",
              "      <th>t1_p2</th>\n",
              "      <th>t2_p2</th>\n",
              "      <th>t3_p2</th>\n",
              "      <th>t0_p3</th>\n",
              "      <th>t1_p3</th>\n",
              "      <th>t2_p3</th>\n",
              "      <th>t3_p3</th>\n",
              "      <th>trend</th>\n",
              "      <th>weekdayhour11</th>\n",
              "      <th>weekdayhour12</th>\n",
              "      <th>weekdayhour13</th>\n",
              "      <th>weekdayhour14</th>\n",
              "      <th>weekdayhour15</th>\n",
              "      <th>weekdayhour16</th>\n",
              "      <th>weekdayhour17</th>\n",
              "      <th>weekdayhour18</th>\n",
              "      <th>weekdayhour19</th>\n",
              "      <th>weekdayhour110</th>\n",
              "      <th>weekdayhour111</th>\n",
              "      <th>weekdayhour112</th>\n",
              "      <th>weekdayhour113</th>\n",
              "      <th>weekdayhour114</th>\n",
              "      <th>weekdayhour115</th>\n",
              "      <th>weekdayhour116</th>\n",
              "      <th>weekdayhour117</th>\n",
              "      <th>weekdayhour118</th>\n",
              "      <th>weekdayhour119</th>\n",
              "      <th>weekdayhour120</th>\n",
              "      <th>weekdayhour121</th>\n",
              "      <th>weekdayhour122</th>\n",
              "      <th>weekdayhour123</th>\n",
              "      <th>weekdayhour124</th>\n",
              "      <th>weekdayhour21</th>\n",
              "      <th>...</th>\n",
              "      <th>t2_p2hour9</th>\n",
              "      <th>t2_p2hour10</th>\n",
              "      <th>t2_p2hour11</th>\n",
              "      <th>t2_p2hour12</th>\n",
              "      <th>t2_p2hour13</th>\n",
              "      <th>t2_p2hour14</th>\n",
              "      <th>t2_p2hour15</th>\n",
              "      <th>t2_p2hour16</th>\n",
              "      <th>t2_p2hour17</th>\n",
              "      <th>t2_p2hour18</th>\n",
              "      <th>t2_p2hour19</th>\n",
              "      <th>t2_p2hour20</th>\n",
              "      <th>t2_p2hour21</th>\n",
              "      <th>t2_p2hour22</th>\n",
              "      <th>t2_p2hour23</th>\n",
              "      <th>t2_p2hour24</th>\n",
              "      <th>t2_p3hour1</th>\n",
              "      <th>t2_p3hour2</th>\n",
              "      <th>t2_p3hour3</th>\n",
              "      <th>t2_p3hour4</th>\n",
              "      <th>t2_p3hour5</th>\n",
              "      <th>t2_p3hour6</th>\n",
              "      <th>t2_p3hour7</th>\n",
              "      <th>t2_p3hour8</th>\n",
              "      <th>t2_p3hour9</th>\n",
              "      <th>t2_p3hour10</th>\n",
              "      <th>t2_p3hour11</th>\n",
              "      <th>t2_p3hour12</th>\n",
              "      <th>t2_p3hour13</th>\n",
              "      <th>t2_p3hour14</th>\n",
              "      <th>t2_p3hour15</th>\n",
              "      <th>t2_p3hour16</th>\n",
              "      <th>t2_p3hour17</th>\n",
              "      <th>t2_p3hour18</th>\n",
              "      <th>t2_p3hour19</th>\n",
              "      <th>t2_p3hour20</th>\n",
              "      <th>t2_p3hour21</th>\n",
              "      <th>t2_p3hour22</th>\n",
              "      <th>t2_p3hour23</th>\n",
              "      <th>t2_p3hour24</th>\n",
              "    </tr>\n",
              "  </thead>\n",
              "  <tbody>\n",
              "    <tr>\n",
              "      <th>9551</th>\n",
              "      <td>08FEB2020:00:00:00</td>\n",
              "      <td>409.5</td>\n",
              "      <td>38.5</td>\n",
              "      <td>39.5</td>\n",
              "      <td>40.5</td>\n",
              "      <td>42.5</td>\n",
              "      <td>1482.25</td>\n",
              "      <td>1560.25</td>\n",
              "      <td>1640.25</td>\n",
              "      <td>1806.25</td>\n",
              "      <td>57066.625</td>\n",
              "      <td>61629.875</td>\n",
              "      <td>66430.125</td>\n",
              "      <td>76765.625</td>\n",
              "      <td>9552.0</td>\n",
              "      <td>0.0</td>\n",
              "      <td>0.0</td>\n",
              "      <td>0.0</td>\n",
              "      <td>0.0</td>\n",
              "      <td>0.0</td>\n",
              "      <td>0.0</td>\n",
              "      <td>0.0</td>\n",
              "      <td>0.0</td>\n",
              "      <td>0.0</td>\n",
              "      <td>0.0</td>\n",
              "      <td>0.0</td>\n",
              "      <td>0.0</td>\n",
              "      <td>0.0</td>\n",
              "      <td>0.0</td>\n",
              "      <td>0.0</td>\n",
              "      <td>0.0</td>\n",
              "      <td>0.0</td>\n",
              "      <td>0.0</td>\n",
              "      <td>0.0</td>\n",
              "      <td>0.0</td>\n",
              "      <td>0.0</td>\n",
              "      <td>0.0</td>\n",
              "      <td>0.0</td>\n",
              "      <td>0.0</td>\n",
              "      <td>0.0</td>\n",
              "      <td>...</td>\n",
              "      <td>0.0</td>\n",
              "      <td>0.0</td>\n",
              "      <td>0.0</td>\n",
              "      <td>0.0</td>\n",
              "      <td>0.0</td>\n",
              "      <td>0.0</td>\n",
              "      <td>0.0</td>\n",
              "      <td>0.0</td>\n",
              "      <td>0.0</td>\n",
              "      <td>0.0</td>\n",
              "      <td>0.0</td>\n",
              "      <td>0.0</td>\n",
              "      <td>0.0</td>\n",
              "      <td>0.0</td>\n",
              "      <td>0.0</td>\n",
              "      <td>1640.25</td>\n",
              "      <td>0.0</td>\n",
              "      <td>0.0</td>\n",
              "      <td>0.0</td>\n",
              "      <td>0.0</td>\n",
              "      <td>0.0</td>\n",
              "      <td>0.0</td>\n",
              "      <td>0.0</td>\n",
              "      <td>0.0</td>\n",
              "      <td>0.0</td>\n",
              "      <td>0.0</td>\n",
              "      <td>0.0</td>\n",
              "      <td>0.0</td>\n",
              "      <td>0.0</td>\n",
              "      <td>0.0</td>\n",
              "      <td>0.0</td>\n",
              "      <td>0.0</td>\n",
              "      <td>0.0</td>\n",
              "      <td>0.0</td>\n",
              "      <td>0.0</td>\n",
              "      <td>0.0</td>\n",
              "      <td>0.0</td>\n",
              "      <td>0.0</td>\n",
              "      <td>0.0</td>\n",
              "      <td>66430.125</td>\n",
              "    </tr>\n",
              "  </tbody>\n",
              "</table>\n",
              "<p>1 rows × 519 columns</p>\n",
              "</div>"
            ],
            "text/plain": [
              "                    dttm   load  t0_p1  ...  t2_p3hour22  t2_p3hour23  t2_p3hour24\n",
              "9551  08FEB2020:00:00:00  409.5   38.5  ...          0.0          0.0    66430.125\n",
              "\n",
              "[1 rows x 519 columns]"
            ]
          },
          "metadata": {
            "tags": []
          },
          "execution_count": 46
        }
      ]
    },
    {
      "cell_type": "code",
      "metadata": {
        "id": "vLCjaoiRP9fm",
        "outputId": "3949d4a9-4116-4ad6-cf26-81334d2bd547",
        "colab": {
          "base_uri": "https://localhost:8080/",
          "height": 35
        }
      },
      "source": [
        "import tensorflow as tf\n",
        "print(tf.__version__)"
      ],
      "execution_count": null,
      "outputs": [
        {
          "output_type": "stream",
          "text": [
            "2.3.0\n"
          ],
          "name": "stdout"
        }
      ]
    },
    {
      "cell_type": "code",
      "metadata": {
        "id": "VR7NQILYSGo_"
      },
      "source": [
        "import csv\n",
        "time_step = []\n",
        "load = []\n",
        "\n",
        "with open( data_path) as csvfile:\n",
        "  reader = csv.reader(csvfile, delimiter=',')\n",
        "  next(reader)\n",
        "  for row in reader:\n",
        "    load.append(float(row[1]))\n",
        "    time_step.append(row[0])"
      ],
      "execution_count": null,
      "outputs": []
    },
    {
      "cell_type": "code",
      "metadata": {
        "id": "PGZODfHURtJV"
      },
      "source": [
        "import numpy as np\n",
        "series = np.array(load)\n",
        "time = np.array(time_step)\n"
      ],
      "execution_count": null,
      "outputs": []
    },
    {
      "cell_type": "code",
      "metadata": {
        "id": "4sKtcDkqQMAO"
      },
      "source": [
        "import numpy as np\n",
        "import matplotlib.pyplot as plt\n",
        "def plot_series(time, series, format=\"-\", start=0, end=None):\n",
        "  plt.plot(time[start:end], series[start:end], format)\n",
        "  plt.xlabel(\"Time\")\n",
        "  plt.ylabel(\"Value\")\n",
        "  plt.grid(True)"
      ],
      "execution_count": null,
      "outputs": []
    },
    {
      "cell_type": "code",
      "metadata": {
        "id": "_z2hV6WeZtjL",
        "outputId": "3806167c-9bd7-453e-d169-987e0d9941d1",
        "colab": {
          "base_uri": "https://localhost:8080/",
          "height": 388
        }
      },
      "source": [
        "plt.figure(figsize=(10, 6))\n",
        "plot_series(time, series)"
      ],
      "execution_count": null,
      "outputs": [
        {
          "output_type": "display_data",
          "data": {
            "image/png": "[encoded data removed]",
            "text/plain": [
              "<Figure size 720x432 with 1 Axes>"
            ]
          },
          "metadata": {
            "tags": [],
            "needs_background": "light"
          }
        }
      ]
    },
    {
      "cell_type": "code",
      "metadata": {
        "id": "2I3z_dl4Zy_N"
      },
      "source": [
        "split_time = 9384 # 06Jan2019:01 - 01Feb2020:00\n",
        "time_train = time[:split_time]\n",
        "x_train = series[:split_time]\n",
        "time_valid = time[split_time:split_time + 168] # 01Feb2020:01 - 08Feb2020:00\n",
        "x_valid = series[split_time:split_time + 168]\n",
        "\n",
        "window_size = 168\n",
        "batch_size = 100\n",
        "shuffle_buffer_size = 1000"
      ],
      "execution_count": null,
      "outputs": []
    },
    {
      "cell_type": "code",
      "metadata": {
        "id": "T8KAC_-zk2gq"
      },
      "source": [
        "def windowed_dataset(series, window_size, batch_size, shuffle_buffer):\n",
        "    series = tf.expand_dims(series, axis=-1)\n",
        "    ds = tf.data.Dataset.from_tensor_slices(series)\n",
        "    ds = ds.window(window_size + 1, shift=1, drop_remainder=True)\n",
        "    ds = ds.flat_map(lambda w: w.batch(window_size + 1))\n",
        "    ds = ds.shuffle(shuffle_buffer)\n",
        "    ds = ds.map(lambda w: (w[:-1], w[1:]))\n",
        "    return ds.batch(batch_size).prefetch(1)"
      ],
      "execution_count": null,
      "outputs": []
    },
    {
      "cell_type": "code",
      "metadata": {
        "id": "tKDT4Y0Bk74E"
      },
      "source": [
        "def model_forecast(model, series, window_size):\n",
        "    ds = tf.data.Dataset.from_tensor_slices(series)\n",
        "    ds = ds.window(window_size, shift=1, drop_remainder=True)\n",
        "    ds = ds.flat_map(lambda w: w.batch(window_size))\n",
        "    ds = ds.batch(32).prefetch(1)\n",
        "    forecast = model.predict(ds)\n",
        "    return forecast"
      ],
      "execution_count": null,
      "outputs": []
    },
    {
      "cell_type": "code",
      "metadata": {
        "id": "nuBxY9Brk_wd",
        "outputId": "43d89644-81a7-4978-a4b6-034897dd1769",
        "colab": {
          "base_uri": "https://localhost:8080/",
          "height": 1000
        }
      },
      "source": [
        "tf.keras.backend.clear_session()\n",
        "tf.random.set_seed(51)\n",
        "np.random.seed(51)\n",
        "window_size = 168\n",
        "batch_size = 100\n",
        "train_set = windowed_dataset(x_train, window_size, batch_size, shuffle_buffer_size)\n",
        "print(train_set)\n",
        "print(x_train.shape)\n",
        "\n",
        "model = tf.keras.models.Sequential([\n",
        "  tf.keras.layers.Conv1D(filters=32, kernel_size=5,\n",
        "                      strides=1, padding=\"causal\",\n",
        "                      activation=\"relu\",\n",
        "                      input_shape=[None, 1]),\n",
        "  tf.keras.layers.LSTM(64, return_sequences=True),\n",
        "  tf.keras.layers.LSTM(64, return_sequences=True),\n",
        "  tf.keras.layers.Dense(30, activation=\"relu\"),\n",
        "  tf.keras.layers.Dense(10, activation=\"relu\"),\n",
        "  tf.keras.layers.Dense(1),\n",
        "  tf.keras.layers.Lambda(lambda x: x * 400)\n",
        "])\n",
        "\n",
        "lr_schedule = tf.keras.callbacks.LearningRateScheduler(\n",
        "    lambda epoch: 1e-8 * 10**(epoch / 20))\n",
        "optimizer = tf.keras.optimizers.SGD(lr=1e-8, momentum=0.9)\n",
        "model.compile(loss=tf.keras.losses.Huber(),\n",
        "              optimizer=optimizer,\n",
        "              metrics=[\"mae\", \"mape\", \"accuracy\"])\n",
        "history = model.fit(train_set, epochs=100, callbacks=[lr_schedule])"
      ],
      "execution_count": null,
      "outputs": [
        {
          "output_type": "stream",
          "text": [
            "<PrefetchDataset shapes: ((None, None, 1), (None, None, 1)), types: (tf.float64, tf.float64)>\n",
            "(9384,)\n",
            "Epoch 1/100\n",
            "93/93 [==============================] - 2s 20ms/step - loss: 579.6228 - mae: 580.1228 - mape: 93.5569 - accuracy: 0.0000e+00\n",
            "Epoch 2/100\n",
            "93/93 [==============================] - 2s 21ms/step - loss: 538.1094 - mae: 538.6096 - mape: 85.6374 - accuracy: 0.0000e+00\n",
            "Epoch 3/100\n",
            "93/93 [==============================] - 2s 21ms/step - loss: 491.3219 - mae: 491.8218 - mape: 76.9609 - accuracy: 0.0000e+00\n",
            "Epoch 4/100\n",
            "93/93 [==============================] - 2s 21ms/step - loss: 458.1628 - mae: 458.6628 - mape: 70.7358 - accuracy: 0.0000e+00\n",
            "Epoch 5/100\n",
            "93/93 [==============================] - 2s 22ms/step - loss: 430.6454 - mae: 431.1453 - mape: 65.5936 - accuracy: 0.0000e+00\n",
            "Epoch 6/100\n",
            "93/93 [==============================] - 2s 21ms/step - loss: 402.8280 - mae: 403.3280 - mape: 60.4585 - accuracy: 0.0000e+00\n",
            "Epoch 7/100\n",
            "93/93 [==============================] - 2s 21ms/step - loss: 372.4992 - mae: 372.9992 - mape: 54.8657 - accuracy: 0.0000e+00\n",
            "Epoch 8/100\n",
            "93/93 [==============================] - 2s 21ms/step - loss: 338.8993 - mae: 339.3993 - mape: 48.6587 - accuracy: 0.0000e+00\n",
            "Epoch 9/100\n",
            "93/93 [==============================] - 2s 21ms/step - loss: 300.6630 - mae: 301.1625 - mape: 41.6577 - accuracy: 0.0000e+00\n",
            "Epoch 10/100\n",
            "93/93 [==============================] - 2s 22ms/step - loss: 260.9625 - mae: 261.4616 - mape: 34.9011 - accuracy: 0.0000e+00\n",
            "Epoch 11/100\n",
            "93/93 [==============================] - 2s 22ms/step - loss: 233.5923 - mae: 234.0915 - mape: 31.0976 - accuracy: 0.0000e+00\n",
            "Epoch 12/100\n",
            "93/93 [==============================] - 2s 22ms/step - loss: 218.0480 - mae: 218.5473 - mape: 29.6296 - accuracy: 0.0000e+00\n",
            "Epoch 13/100\n",
            "93/93 [==============================] - 2s 22ms/step - loss: 207.9144 - mae: 208.4138 - mape: 29.1172 - accuracy: 0.0000e+00\n",
            "Epoch 14/100\n",
            "93/93 [==============================] - 2s 21ms/step - loss: 201.6656 - mae: 202.1648 - mape: 29.1137 - accuracy: 0.0000e+00\n",
            "Epoch 15/100\n",
            "93/93 [==============================] - 2s 22ms/step - loss: 197.7971 - mae: 198.2960 - mape: 29.1986 - accuracy: 0.0000e+00\n",
            "Epoch 16/100\n",
            "93/93 [==============================] - 2s 22ms/step - loss: 195.0833 - mae: 195.5824 - mape: 29.1682 - accuracy: 0.0000e+00\n",
            "Epoch 17/100\n",
            "93/93 [==============================] - 2s 22ms/step - loss: 193.4944 - mae: 193.9935 - mape: 29.2266 - accuracy: 0.0000e+00\n",
            "Epoch 18/100\n",
            "93/93 [==============================] - 2s 22ms/step - loss: 191.9224 - mae: 192.4217 - mape: 29.2421 - accuracy: 0.0000e+00\n",
            "Epoch 19/100\n",
            "93/93 [==============================] - 2s 22ms/step - loss: 189.3820 - mae: 189.8812 - mape: 28.9518 - accuracy: 0.0000e+00\n",
            "Epoch 20/100\n",
            "93/93 [==============================] - 2s 22ms/step - loss: 187.7125 - mae: 188.2116 - mape: 28.9552 - accuracy: 0.0000e+00\n",
            "Epoch 21/100\n",
            "93/93 [==============================] - 2s 21ms/step - loss: 186.1161 - mae: 186.6154 - mape: 28.9101 - accuracy: 0.0000e+00\n",
            "Epoch 22/100\n",
            "93/93 [==============================] - 2s 22ms/step - loss: 184.4752 - mae: 184.9744 - mape: 28.8265 - accuracy: 0.0000e+00\n",
            "Epoch 23/100\n",
            "93/93 [==============================] - 2s 22ms/step - loss: 182.7022 - mae: 183.2014 - mape: 28.7274 - accuracy: 0.0000e+00\n",
            "Epoch 24/100\n",
            "93/93 [==============================] - 2s 22ms/step - loss: 178.8635 - mae: 179.3626 - mape: 28.0940 - accuracy: 0.0000e+00\n",
            "Epoch 25/100\n",
            "93/93 [==============================] - 2s 22ms/step - loss: 172.4995 - mae: 172.9986 - mape: 27.3532 - accuracy: 0.0000e+00\n",
            "Epoch 26/100\n",
            "93/93 [==============================] - 2s 22ms/step - loss: 161.5753 - mae: 162.0745 - mape: 25.3918 - accuracy: 0.0000e+00\n",
            "Epoch 27/100\n",
            "93/93 [==============================] - 2s 21ms/step - loss: 151.7141 - mae: 152.2133 - mape: 24.2203 - accuracy: 0.0000e+00\n",
            "Epoch 28/100\n",
            "93/93 [==============================] - 2s 22ms/step - loss: 139.1342 - mae: 139.6335 - mape: 22.5898 - accuracy: 0.0000e+00\n",
            "Epoch 29/100\n",
            "93/93 [==============================] - 2s 22ms/step - loss: 119.2139 - mae: 119.7129 - mape: 19.5242 - accuracy: 0.0000e+00\n",
            "Epoch 30/100\n",
            "93/93 [==============================] - 2s 21ms/step - loss: 91.5709 - mae: 92.0695 - mape: 15.5610 - accuracy: 0.0000e+00\n",
            "Epoch 31/100\n",
            "93/93 [==============================] - 2s 22ms/step - loss: 84.6088 - mae: 85.1071 - mape: 14.3816 - accuracy: 0.0000e+00\n",
            "Epoch 32/100\n",
            "93/93 [==============================] - 2s 22ms/step - loss: 76.0784 - mae: 76.5763 - mape: 12.5806 - accuracy: 0.0000e+00\n",
            "Epoch 33/100\n",
            "93/93 [==============================] - 2s 22ms/step - loss: 73.9050 - mae: 74.4028 - mape: 12.1577 - accuracy: 0.0000e+00\n",
            "Epoch 34/100\n",
            "93/93 [==============================] - 2s 22ms/step - loss: 72.3202 - mae: 72.8180 - mape: 11.8668 - accuracy: 0.0000e+00\n",
            "Epoch 35/100\n",
            "93/93 [==============================] - 2s 22ms/step - loss: 70.3018 - mae: 70.7994 - mape: 11.4902 - accuracy: 0.0000e+00\n",
            "Epoch 36/100\n",
            "93/93 [==============================] - 2s 22ms/step - loss: 68.7984 - mae: 69.2960 - mape: 11.2877 - accuracy: 0.0000e+00\n",
            "Epoch 37/100\n",
            "93/93 [==============================] - 2s 21ms/step - loss: 67.9195 - mae: 68.4171 - mape: 11.1557 - accuracy: 0.0000e+00\n",
            "Epoch 38/100\n",
            "93/93 [==============================] - 2s 21ms/step - loss: 67.2766 - mae: 67.7742 - mape: 11.0717 - accuracy: 0.0000e+00\n",
            "Epoch 39/100\n",
            "93/93 [==============================] - 2s 21ms/step - loss: 68.3860 - mae: 68.8838 - mape: 11.3352 - accuracy: 0.0000e+00\n",
            "Epoch 40/100\n",
            "93/93 [==============================] - 2s 21ms/step - loss: 68.2017 - mae: 68.6995 - mape: 11.3599 - accuracy: 0.0000e+00\n",
            "Epoch 41/100\n",
            "93/93 [==============================] - 2s 22ms/step - loss: 70.7686 - mae: 71.2665 - mape: 11.8149 - accuracy: 0.0000e+00\n",
            "Epoch 42/100\n",
            "93/93 [==============================] - 2s 21ms/step - loss: 72.2127 - mae: 72.7108 - mape: 12.1328 - accuracy: 0.0000e+00\n",
            "Epoch 43/100\n",
            "93/93 [==============================] - 2s 21ms/step - loss: 79.0008 - mae: 79.4990 - mape: 13.2158 - accuracy: 0.0000e+00\n",
            "Epoch 44/100\n",
            "93/93 [==============================] - 2s 21ms/step - loss: 74.1720 - mae: 74.6700 - mape: 12.2303 - accuracy: 0.0000e+00\n",
            "Epoch 45/100\n",
            "93/93 [==============================] - 2s 21ms/step - loss: 71.9378 - mae: 72.4356 - mape: 11.8724 - accuracy: 0.0000e+00\n",
            "Epoch 46/100\n",
            "93/93 [==============================] - 2s 21ms/step - loss: 69.3465 - mae: 69.8443 - mape: 11.4460 - accuracy: 0.0000e+00\n",
            "Epoch 47/100\n",
            "93/93 [==============================] - 2s 21ms/step - loss: 68.2329 - mae: 68.7306 - mape: 11.2199 - accuracy: 0.0000e+00\n",
            "Epoch 48/100\n",
            "93/93 [==============================] - 2s 21ms/step - loss: 69.9788 - mae: 70.4767 - mape: 11.6278 - accuracy: 0.0000e+00\n",
            "Epoch 49/100\n",
            "93/93 [==============================] - 2s 22ms/step - loss: 67.9233 - mae: 68.4211 - mape: 11.2562 - accuracy: 0.0000e+00\n",
            "Epoch 50/100\n",
            "93/93 [==============================] - 2s 22ms/step - loss: 65.6132 - mae: 66.1109 - mape: 10.8511 - accuracy: 0.0000e+00\n",
            "Epoch 51/100\n",
            "93/93 [==============================] - 2s 21ms/step - loss: 68.8464 - mae: 69.3441 - mape: 11.4253 - accuracy: 0.0000e+00\n",
            "Epoch 52/100\n",
            "93/93 [==============================] - 2s 22ms/step - loss: 66.8422 - mae: 67.3400 - mape: 10.9359 - accuracy: 0.0000e+00\n",
            "Epoch 53/100\n",
            "93/93 [==============================] - 2s 22ms/step - loss: 69.7377 - mae: 70.2356 - mape: 11.5475 - accuracy: 0.0000e+00\n",
            "Epoch 54/100\n",
            "93/93 [==============================] - 2s 22ms/step - loss: 66.5212 - mae: 67.0189 - mape: 10.9562 - accuracy: 0.0000e+00\n",
            "Epoch 55/100\n",
            "93/93 [==============================] - 2s 23ms/step - loss: 68.1683 - mae: 68.6661 - mape: 11.3040 - accuracy: 0.0000e+00\n",
            "Epoch 56/100\n",
            "93/93 [==============================] - 2s 24ms/step - loss: 68.5298 - mae: 69.0276 - mape: 11.3571 - accuracy: 0.0000e+00\n",
            "Epoch 57/100\n",
            "93/93 [==============================] - 2s 23ms/step - loss: 63.9542 - mae: 64.4518 - mape: 10.4515 - accuracy: 0.0000e+00\n",
            "Epoch 58/100\n",
            "93/93 [==============================] - 2s 22ms/step - loss: 68.1964 - mae: 68.6942 - mape: 11.3506 - accuracy: 0.0000e+00\n",
            "Epoch 59/100\n",
            "93/93 [==============================] - 2s 22ms/step - loss: 66.5645 - mae: 67.0622 - mape: 11.0087 - accuracy: 0.0000e+00\n",
            "Epoch 60/100\n",
            "93/93 [==============================] - 2s 22ms/step - loss: 63.3961 - mae: 63.8936 - mape: 10.4201 - accuracy: 0.0000e+00\n",
            "Epoch 61/100\n",
            "93/93 [==============================] - 2s 21ms/step - loss: 63.9146 - mae: 64.4124 - mape: 10.5953 - accuracy: 0.0000e+00\n",
            "Epoch 62/100\n",
            "93/93 [==============================] - 2s 22ms/step - loss: 65.4169 - mae: 65.9147 - mape: 10.9007 - accuracy: 0.0000e+00\n",
            "Epoch 63/100\n",
            "93/93 [==============================] - 2s 22ms/step - loss: 67.8900 - mae: 68.3877 - mape: 11.3039 - accuracy: 0.0000e+00\n",
            "Epoch 64/100\n",
            "93/93 [==============================] - 2s 22ms/step - loss: 90.8216 - mae: 91.3197 - mape: 15.1227 - accuracy: 0.0000e+00\n",
            "Epoch 65/100\n",
            "93/93 [==============================] - 2s 21ms/step - loss: 191.1427 - mae: 191.6421 - mape: 29.4683 - accuracy: 0.0000e+00\n",
            "Epoch 66/100\n",
            "93/93 [==============================] - 2s 22ms/step - loss: 191.0992 - mae: 191.5986 - mape: 29.4619 - accuracy: 0.0000e+00\n",
            "Epoch 67/100\n",
            "93/93 [==============================] - 2s 22ms/step - loss: 191.0048 - mae: 191.5042 - mape: 29.4826 - accuracy: 0.0000e+00\n",
            "Epoch 68/100\n",
            "93/93 [==============================] - 2s 21ms/step - loss: 191.0845 - mae: 191.5837 - mape: 29.5113 - accuracy: 0.0000e+00\n",
            "Epoch 69/100\n",
            "93/93 [==============================] - 2s 22ms/step - loss: 191.0910 - mae: 191.5903 - mape: 29.5105 - accuracy: 0.0000e+00\n",
            "Epoch 70/100\n",
            "93/93 [==============================] - 2s 22ms/step - loss: 190.9425 - mae: 191.4418 - mape: 29.4573 - accuracy: 0.0000e+00\n",
            "Epoch 71/100\n",
            "93/93 [==============================] - 2s 22ms/step - loss: 190.8008 - mae: 191.3000 - mape: 29.4098 - accuracy: 0.0000e+00\n",
            "Epoch 72/100\n",
            "93/93 [==============================] - 2s 21ms/step - loss: 191.1161 - mae: 191.6154 - mape: 29.5330 - accuracy: 0.0000e+00\n",
            "Epoch 73/100\n",
            "93/93 [==============================] - 2s 22ms/step - loss: 190.9645 - mae: 191.4639 - mape: 29.4668 - accuracy: 0.0000e+00\n",
            "Epoch 74/100\n",
            "93/93 [==============================] - 2s 21ms/step - loss: 190.8387 - mae: 191.3380 - mape: 29.4662 - accuracy: 0.0000e+00\n",
            "Epoch 75/100\n",
            "93/93 [==============================] - 2s 22ms/step - loss: 191.1085 - mae: 191.6078 - mape: 29.5073 - accuracy: 0.0000e+00\n",
            "Epoch 76/100\n",
            "93/93 [==============================] - 2s 22ms/step - loss: 191.1506 - mae: 191.6498 - mape: 29.5305 - accuracy: 0.0000e+00\n",
            "Epoch 77/100\n",
            "93/93 [==============================] - 2s 21ms/step - loss: 191.1395 - mae: 191.6387 - mape: 29.4553 - accuracy: 0.0000e+00\n",
            "Epoch 78/100\n",
            "93/93 [==============================] - 2s 22ms/step - loss: 190.9409 - mae: 191.4402 - mape: 29.4874 - accuracy: 0.0000e+00\n",
            "Epoch 79/100\n",
            "93/93 [==============================] - 2s 21ms/step - loss: 190.9277 - mae: 191.4268 - mape: 29.4504 - accuracy: 0.0000e+00\n",
            "Epoch 80/100\n",
            "93/93 [==============================] - 2s 22ms/step - loss: 191.0921 - mae: 191.5914 - mape: 29.4890 - accuracy: 0.0000e+00\n",
            "Epoch 81/100\n",
            "93/93 [==============================] - 2s 22ms/step - loss: 190.8994 - mae: 191.3987 - mape: 29.4425 - accuracy: 0.0000e+00\n",
            "Epoch 82/100\n",
            "93/93 [==============================] - 2s 21ms/step - loss: 190.9319 - mae: 191.4311 - mape: 29.4525 - accuracy: 0.0000e+00\n",
            "Epoch 83/100\n",
            "93/93 [==============================] - 2s 21ms/step - loss: 190.8982 - mae: 191.3975 - mape: 29.4647 - accuracy: 0.0000e+00\n",
            "Epoch 84/100\n",
            "93/93 [==============================] - 2s 21ms/step - loss: 190.7484 - mae: 191.2476 - mape: 29.3886 - accuracy: 0.0000e+00\n",
            "Epoch 85/100\n",
            "93/93 [==============================] - 2s 22ms/step - loss: 190.9672 - mae: 191.4664 - mape: 29.4645 - accuracy: 0.0000e+00\n",
            "Epoch 86/100\n",
            "93/93 [==============================] - 2s 22ms/step - loss: 190.8882 - mae: 191.3874 - mape: 29.4434 - accuracy: 0.0000e+00\n",
            "Epoch 87/100\n",
            "93/93 [==============================] - 2s 21ms/step - loss: 190.9147 - mae: 191.4140 - mape: 29.4502 - accuracy: 0.0000e+00\n",
            "Epoch 88/100\n",
            "93/93 [==============================] - 2s 22ms/step - loss: 190.9633 - mae: 191.4626 - mape: 29.4817 - accuracy: 0.0000e+00\n",
            "Epoch 89/100\n",
            "93/93 [==============================] - 2s 22ms/step - loss: 191.2769 - mae: 191.7762 - mape: 29.5451 - accuracy: 0.0000e+00\n",
            "Epoch 90/100\n",
            "93/93 [==============================] - 2s 22ms/step - loss: 191.2282 - mae: 191.7275 - mape: 29.5326 - accuracy: 0.0000e+00\n",
            "Epoch 91/100\n",
            "93/93 [==============================] - 2s 22ms/step - loss: 190.8489 - mae: 191.3482 - mape: 29.4449 - accuracy: 0.0000e+00\n",
            "Epoch 92/100\n",
            "93/93 [==============================] - 2s 22ms/step - loss: 190.9836 - mae: 191.4829 - mape: 29.4341 - accuracy: 0.0000e+00\n",
            "Epoch 93/100\n",
            "93/93 [==============================] - 2s 22ms/step - loss: 191.1220 - mae: 191.6212 - mape: 29.5124 - accuracy: 0.0000e+00\n",
            "Epoch 94/100\n",
            "93/93 [==============================] - 2s 22ms/step - loss: 190.9912 - mae: 191.4905 - mape: 29.4980 - accuracy: 0.0000e+00\n",
            "Epoch 95/100\n",
            "93/93 [==============================] - 2s 21ms/step - loss: 190.9402 - mae: 191.4395 - mape: 29.4406 - accuracy: 0.0000e+00\n",
            "Epoch 96/100\n",
            "93/93 [==============================] - 2s 21ms/step - loss: 190.7148 - mae: 191.2141 - mape: 29.4097 - accuracy: 0.0000e+00\n",
            "Epoch 97/100\n",
            "93/93 [==============================] - 2s 21ms/step - loss: 191.0687 - mae: 191.5680 - mape: 29.5008 - accuracy: 0.0000e+00\n",
            "Epoch 98/100\n",
            "93/93 [==============================] - 2s 21ms/step - loss: 190.9160 - mae: 191.4153 - mape: 29.4304 - accuracy: 0.0000e+00\n",
            "Epoch 99/100\n",
            "93/93 [==============================] - 2s 22ms/step - loss: 191.3813 - mae: 191.8806 - mape: 29.5947 - accuracy: 0.0000e+00\n",
            "Epoch 100/100\n",
            "93/93 [==============================] - 2s 22ms/step - loss: 191.4729 - mae: 191.9722 - mape: 29.6080 - accuracy: 0.0000e+00\n"
          ],
          "name": "stdout"
        }
      ]
    },
    {
      "cell_type": "code",
      "metadata": {
        "id": "_SVpqUJDlGOk",
        "outputId": "d3b8a446-bd6e-44a4-cab1-e5e325c76d6a",
        "colab": {
          "base_uri": "https://localhost:8080/",
          "height": 291
        }
      },
      "source": [
        "plt.semilogx(history.history[\"lr\"], history.history[\"loss\"])\n",
        "plt.axis([1e-8, 1e-4, 0, 60])"
      ],
      "execution_count": null,
      "outputs": [
        {
          "output_type": "execute_result",
          "data": {
            "text/plain": [
              "(1e-08, 0.0001, 0.0, 60.0)"
            ]
          },
          "metadata": {
            "tags": []
          },
          "execution_count": 56
        },
        {
          "output_type": "display_data",
          "data": {
            "image/png": "[encoded data removed]",
            "text/plain": [
              "<Figure size 432x288 with 1 Axes>"
            ]
          },
          "metadata": {
            "tags": [],
            "needs_background": "light"
          }
        }
      ]
    },
    {
      "cell_type": "code",
      "metadata": {
        "id": "lniq7pQp1C7w",
        "outputId": "05c3fc0e-f395-4140-b0e2-bdfb629c6a3d",
        "colab": {
          "base_uri": "https://localhost:8080/",
          "height": 35
        }
      },
      "source": [
        "rnn_forecast = model_forecast(model, series[..., np.newaxis], window_size)\n",
        "# rnn_forecast = rnn_forecast[split_time - window_size:-1, -1, 0]\n",
        "rnn_forecast.shape"
      ],
      "execution_count": null,
      "outputs": [
        {
          "output_type": "execute_result",
          "data": {
            "text/plain": [
              "(9385, 168, 1)"
            ]
          },
          "metadata": {
            "tags": []
          },
          "execution_count": 57
        }
      ]
    },
    {
      "cell_type": "code",
      "metadata": {
        "id": "PRgiA882e6TE"
      },
      "source": [
        "rnn_forecastx = rnn_forecast[split_time - window_size:split_time, -1, 0]"
      ],
      "execution_count": null,
      "outputs": []
    },
    {
      "cell_type": "code",
      "metadata": {
        "id": "zUn58CiLfTaw",
        "outputId": "85954725-574a-49ea-b1d1-8980f03f90f6",
        "colab": {
          "base_uri": "https://localhost:8080/",
          "height": 35
        }
      },
      "source": [
        "rnn_forecastx.shape"
      ],
      "execution_count": null,
      "outputs": [
        {
          "output_type": "execute_result",
          "data": {
            "text/plain": [
              "(168,)"
            ]
          },
          "metadata": {
            "tags": []
          },
          "execution_count": 59
        }
      ]
    },
    {
      "cell_type": "code",
      "metadata": {
        "id": "TiKyIABDi-t6",
        "outputId": "7eb0608a-2c8a-4a45-c024-b2f8f1c2a828",
        "colab": {
          "base_uri": "https://localhost:8080/",
          "height": 35
        }
      },
      "source": [
        "split_time"
      ],
      "execution_count": null,
      "outputs": [
        {
          "output_type": "execute_result",
          "data": {
            "text/plain": [
              "9384"
            ]
          },
          "metadata": {
            "tags": []
          },
          "execution_count": 60
        }
      ]
    },
    {
      "cell_type": "code",
      "metadata": {
        "id": "g4NECw8L1aSZ",
        "outputId": "80ffc4de-24d6-48ae-c7af-348293817ec7",
        "colab": {
          "base_uri": "https://localhost:8080/",
          "height": 388
        }
      },
      "source": [
        "plt.figure(figsize=(10, 6))\n",
        "plot_series(time_valid, x_valid)\n",
        "plot_series(time_valid, rnn_forecastx)"
      ],
      "execution_count": null,
      "outputs": [
        {
          "output_type": "display_data",
          "data": {
            "image/png": "[encoded data removed]",
            "text/plain": [
              "<Figure size 720x432 with 1 Axes>"
            ]
          },
          "metadata": {
            "tags": [],
            "needs_background": "light"
          }
        }
      ]
    },
    {
      "cell_type": "code",
      "metadata": {
        "id": "hY6EQjGAm320"
      },
      "source": [
        ""
      ],
      "execution_count": null,
      "outputs": []
    },
    {
      "cell_type": "code",
      "metadata": {
        "id": "iVxumTx2m6yj",
        "outputId": "4fb6fb2c-d55f-40fb-838e-2622839fed66",
        "colab": {
          "base_uri": "https://localhost:8080/",
          "height": 35
        }
      },
      "source": [
        "tf.keras.metrics.mean_absolute_error(x_valid, rnn_forecastx).numpy()"
      ],
      "execution_count": null,
      "outputs": [
        {
          "output_type": "execute_result",
          "data": {
            "text/plain": [
              "170.651"
            ]
          },
          "metadata": {
            "tags": []
          },
          "execution_count": 62
        }
      ]
    },
    {
      "cell_type": "code",
      "metadata": {
        "id": "cowY_Ppt0M9O",
        "outputId": "7d527d8b-f840-4f6b-baf9-cdd2507a8e98",
        "colab": {
          "base_uri": "https://localhost:8080/",
          "height": 1000
        }
      },
      "source": [
        "tf.keras.backend.clear_session()\n",
        "tf.random.set_seed(51)\n",
        "np.random.seed(51)\n",
        "train_set = windowed_dataset(x_train, window_size=672, batch_size=100, shuffle_buffer=shuffle_buffer_size)\n",
        "model = tf.keras.models.Sequential([\n",
        "  tf.keras.layers.Conv1D(filters=60, kernel_size=5,\n",
        "                      strides=1, padding=\"causal\",\n",
        "                      activation=\"relu\",\n",
        "                      input_shape=[None, 1]),\n",
        "  tf.keras.layers.LSTM(60, return_sequences=True),\n",
        "  tf.keras.layers.LSTM(60, return_sequences=True),\n",
        "  tf.keras.layers.Dense(30, activation=\"relu\"),\n",
        "  tf.keras.layers.Dense(10, activation=\"relu\"),\n",
        "  tf.keras.layers.Dense(1),\n",
        "  tf.keras.layers.Lambda(lambda x: x * 400)\n",
        "])\n",
        "\n",
        "\n",
        "optimizer = tf.keras.optimizers.SGD(lr=1e-6, momentum=0.9)\n",
        "model.compile(loss=tf.keras.losses.Huber(),\n",
        "              optimizer=optimizer,\n",
        "              metrics=[\"mae\", \"mape\", \"accuracy\"])\n",
        "history = model.fit(train_set,epochs=100)"
      ],
      "execution_count": null,
      "outputs": [
        {
          "output_type": "stream",
          "text": [
            "Epoch 1/100\n",
            "88/88 [==============================] - 5s 59ms/step - loss: 286.4267 - mae: 286.9262 - mape: 44.4280 - accuracy: 0.0000e+00\n",
            "Epoch 2/100\n",
            "88/88 [==============================] - 5s 59ms/step - loss: 187.2658 - mae: 187.7651 - mape: 28.6485 - accuracy: 0.0000e+00\n",
            "Epoch 3/100\n",
            "88/88 [==============================] - 5s 59ms/step - loss: 165.8048 - mae: 166.3039 - mape: 25.8108 - accuracy: 0.0000e+00\n",
            "Epoch 4/100\n",
            "88/88 [==============================] - 5s 58ms/step - loss: 128.5250 - mae: 129.0240 - mape: 20.6761 - accuracy: 0.0000e+00\n",
            "Epoch 5/100\n",
            "88/88 [==============================] - 5s 59ms/step - loss: 85.9688 - mae: 86.4673 - mape: 14.1357 - accuracy: 0.0000e+00\n",
            "Epoch 6/100\n",
            "88/88 [==============================] - 5s 59ms/step - loss: 76.1976 - mae: 76.6957 - mape: 12.4641 - accuracy: 0.0000e+00\n",
            "Epoch 7/100\n",
            "88/88 [==============================] - 5s 59ms/step - loss: 74.6952 - mae: 75.1932 - mape: 12.1248 - accuracy: 0.0000e+00\n",
            "Epoch 8/100\n",
            "88/88 [==============================] - 5s 59ms/step - loss: 72.4326 - mae: 72.9306 - mape: 11.7359 - accuracy: 0.0000e+00\n",
            "Epoch 9/100\n",
            "88/88 [==============================] - 5s 59ms/step - loss: 70.4540 - mae: 70.9519 - mape: 11.4865 - accuracy: 0.0000e+00\n",
            "Epoch 10/100\n",
            "88/88 [==============================] - 6s 65ms/step - loss: 69.1054 - mae: 69.6033 - mape: 11.3098 - accuracy: 0.0000e+00\n",
            "Epoch 11/100\n",
            "88/88 [==============================] - 5s 62ms/step - loss: 67.9086 - mae: 68.4064 - mape: 11.1342 - accuracy: 0.0000e+00\n",
            "Epoch 12/100\n",
            "88/88 [==============================] - 5s 59ms/step - loss: 67.1691 - mae: 67.6669 - mape: 11.0259 - accuracy: 0.0000e+00\n",
            "Epoch 13/100\n",
            "88/88 [==============================] - 5s 59ms/step - loss: 65.5907 - mae: 66.0884 - mape: 10.8053 - accuracy: 0.0000e+00\n",
            "Epoch 14/100\n",
            "88/88 [==============================] - 5s 59ms/step - loss: 66.2984 - mae: 66.7962 - mape: 10.8951 - accuracy: 0.0000e+00\n",
            "Epoch 15/100\n",
            "88/88 [==============================] - 5s 59ms/step - loss: 64.1905 - mae: 64.6882 - mape: 10.5893 - accuracy: 0.0000e+00\n",
            "Epoch 16/100\n",
            "88/88 [==============================] - 5s 59ms/step - loss: 64.9081 - mae: 65.4057 - mape: 10.6673 - accuracy: 0.0000e+00\n",
            "Epoch 17/100\n",
            "88/88 [==============================] - 5s 59ms/step - loss: 62.9087 - mae: 63.4063 - mape: 10.3786 - accuracy: 0.0000e+00\n",
            "Epoch 18/100\n",
            "88/88 [==============================] - 5s 59ms/step - loss: 62.3032 - mae: 62.8008 - mape: 10.2579 - accuracy: 0.0000e+00\n",
            "Epoch 19/100\n",
            "88/88 [==============================] - 5s 59ms/step - loss: 62.2858 - mae: 62.7835 - mape: 10.2902 - accuracy: 0.0000e+00\n",
            "Epoch 20/100\n",
            "88/88 [==============================] - 5s 59ms/step - loss: 62.2501 - mae: 62.7477 - mape: 10.2438 - accuracy: 0.0000e+00\n",
            "Epoch 21/100\n",
            "88/88 [==============================] - 5s 59ms/step - loss: 61.1967 - mae: 61.6943 - mape: 10.0959 - accuracy: 0.0000e+00\n",
            "Epoch 22/100\n",
            "88/88 [==============================] - 5s 59ms/step - loss: 60.6361 - mae: 61.1336 - mape: 9.9523 - accuracy: 0.0000e+00\n",
            "Epoch 23/100\n",
            "88/88 [==============================] - 5s 59ms/step - loss: 61.1941 - mae: 61.6917 - mape: 10.1073 - accuracy: 0.0000e+00\n",
            "Epoch 24/100\n",
            "88/88 [==============================] - 5s 59ms/step - loss: 60.0304 - mae: 60.5279 - mape: 9.8656 - accuracy: 0.0000e+00\n",
            "Epoch 25/100\n",
            "88/88 [==============================] - 5s 59ms/step - loss: 59.3954 - mae: 59.8929 - mape: 9.7735 - accuracy: 0.0000e+00\n",
            "Epoch 26/100\n",
            "88/88 [==============================] - 5s 59ms/step - loss: 59.8953 - mae: 60.3928 - mape: 9.8651 - accuracy: 0.0000e+00\n",
            "Epoch 27/100\n",
            "88/88 [==============================] - 5s 59ms/step - loss: 57.7705 - mae: 58.2679 - mape: 9.4564 - accuracy: 0.0000e+00\n",
            "Epoch 28/100\n",
            "88/88 [==============================] - 5s 59ms/step - loss: 56.9712 - mae: 57.4685 - mape: 9.3093 - accuracy: 0.0000e+00\n",
            "Epoch 29/100\n",
            "88/88 [==============================] - 5s 59ms/step - loss: 58.8621 - mae: 59.3595 - mape: 9.6650 - accuracy: 0.0000e+00\n",
            "Epoch 30/100\n",
            "88/88 [==============================] - 5s 59ms/step - loss: 58.2645 - mae: 58.7619 - mape: 9.4898 - accuracy: 0.0000e+00\n",
            "Epoch 31/100\n",
            "88/88 [==============================] - 5s 59ms/step - loss: 56.1827 - mae: 56.6800 - mape: 9.1543 - accuracy: 0.0000e+00\n",
            "Epoch 32/100\n",
            "88/88 [==============================] - 5s 59ms/step - loss: 56.0307 - mae: 56.5278 - mape: 9.1161 - accuracy: 0.0000e+00\n",
            "Epoch 33/100\n",
            "88/88 [==============================] - 5s 60ms/step - loss: 66.8117 - mae: 67.3095 - mape: 10.9065 - accuracy: 0.0000e+00\n",
            "Epoch 34/100\n",
            "88/88 [==============================] - 5s 59ms/step - loss: 60.9275 - mae: 61.4249 - mape: 9.9322 - accuracy: 0.0000e+00\n",
            "Epoch 35/100\n",
            "88/88 [==============================] - 5s 59ms/step - loss: 60.1729 - mae: 60.6704 - mape: 9.8397 - accuracy: 0.0000e+00\n",
            "Epoch 36/100\n",
            "88/88 [==============================] - 5s 60ms/step - loss: 56.5044 - mae: 57.0015 - mape: 9.1539 - accuracy: 0.0000e+00\n",
            "Epoch 37/100\n",
            "88/88 [==============================] - 5s 59ms/step - loss: 57.5784 - mae: 58.0757 - mape: 9.3420 - accuracy: 0.0000e+00\n",
            "Epoch 38/100\n",
            "88/88 [==============================] - 5s 59ms/step - loss: 56.3907 - mae: 56.8878 - mape: 9.1011 - accuracy: 0.0000e+00\n",
            "Epoch 39/100\n",
            "88/88 [==============================] - 5s 59ms/step - loss: 62.0718 - mae: 62.5690 - mape: 10.1292 - accuracy: 0.0000e+00\n",
            "Epoch 40/100\n",
            "88/88 [==============================] - 5s 59ms/step - loss: 67.2759 - mae: 67.7737 - mape: 11.0610 - accuracy: 0.0000e+00\n",
            "Epoch 41/100\n",
            "88/88 [==============================] - 5s 59ms/step - loss: 56.7531 - mae: 57.2503 - mape: 9.1552 - accuracy: 0.0000e+00\n",
            "Epoch 42/100\n",
            "88/88 [==============================] - 5s 59ms/step - loss: 54.4379 - mae: 54.9350 - mape: 8.8068 - accuracy: 0.0000e+00\n",
            "Epoch 43/100\n",
            "88/88 [==============================] - 5s 59ms/step - loss: 53.8859 - mae: 54.3829 - mape: 8.7019 - accuracy: 0.0000e+00\n",
            "Epoch 44/100\n",
            "88/88 [==============================] - 5s 59ms/step - loss: 59.9980 - mae: 60.4954 - mape: 9.8202 - accuracy: 0.0000e+00\n",
            "Epoch 45/100\n",
            "88/88 [==============================] - 5s 60ms/step - loss: 60.2351 - mae: 60.7326 - mape: 9.8562 - accuracy: 0.0000e+00\n",
            "Epoch 46/100\n",
            "88/88 [==============================] - 5s 59ms/step - loss: 61.9236 - mae: 62.4210 - mape: 10.2205 - accuracy: 0.0000e+00\n",
            "Epoch 47/100\n",
            "88/88 [==============================] - 5s 59ms/step - loss: 63.3200 - mae: 63.8175 - mape: 10.2122 - accuracy: 0.0000e+00\n",
            "Epoch 48/100\n",
            "88/88 [==============================] - 5s 59ms/step - loss: 53.9682 - mae: 54.4652 - mape: 8.6390 - accuracy: 0.0000e+00\n",
            "Epoch 49/100\n",
            "88/88 [==============================] - 5s 59ms/step - loss: 60.1558 - mae: 60.6531 - mape: 9.7312 - accuracy: 0.0000e+00\n",
            "Epoch 50/100\n",
            "88/88 [==============================] - 5s 59ms/step - loss: 58.9178 - mae: 59.4151 - mape: 9.5341 - accuracy: 0.0000e+00\n",
            "Epoch 51/100\n",
            "88/88 [==============================] - 5s 59ms/step - loss: 53.5915 - mae: 54.0885 - mape: 8.5661 - accuracy: 0.0000e+00\n",
            "Epoch 52/100\n",
            "88/88 [==============================] - 5s 59ms/step - loss: 52.1900 - mae: 52.6869 - mape: 8.3913 - accuracy: 0.0000e+00\n",
            "Epoch 53/100\n",
            "88/88 [==============================] - 5s 59ms/step - loss: 53.8526 - mae: 54.3496 - mape: 8.6501 - accuracy: 0.0000e+00\n",
            "Epoch 54/100\n",
            "88/88 [==============================] - 5s 59ms/step - loss: 52.1703 - mae: 52.6672 - mape: 8.3200 - accuracy: 0.0000e+00\n",
            "Epoch 55/100\n",
            "88/88 [==============================] - 5s 60ms/step - loss: 52.3442 - mae: 52.8412 - mape: 8.3606 - accuracy: 0.0000e+00\n",
            "Epoch 56/100\n",
            "88/88 [==============================] - 5s 59ms/step - loss: 50.1289 - mae: 50.6255 - mape: 8.0012 - accuracy: 0.0000e+00\n",
            "Epoch 57/100\n",
            "88/88 [==============================] - 5s 59ms/step - loss: 51.4483 - mae: 51.9452 - mape: 8.2025 - accuracy: 0.0000e+00\n",
            "Epoch 58/100\n",
            "88/88 [==============================] - 5s 59ms/step - loss: 51.3909 - mae: 51.8879 - mape: 8.2233 - accuracy: 0.0000e+00\n",
            "Epoch 59/100\n",
            "88/88 [==============================] - 5s 59ms/step - loss: 53.7399 - mae: 54.2368 - mape: 8.6189 - accuracy: 0.0000e+00\n",
            "Epoch 60/100\n",
            "88/88 [==============================] - 5s 59ms/step - loss: 56.0326 - mae: 56.5296 - mape: 9.0512 - accuracy: 0.0000e+00\n",
            "Epoch 61/100\n",
            "88/88 [==============================] - 5s 59ms/step - loss: 49.9026 - mae: 50.3993 - mape: 7.9194 - accuracy: 0.0000e+00\n",
            "Epoch 62/100\n",
            "88/88 [==============================] - 5s 59ms/step - loss: 51.3662 - mae: 51.8631 - mape: 8.1719 - accuracy: 0.0000e+00\n",
            "Epoch 63/100\n",
            "88/88 [==============================] - 5s 59ms/step - loss: 73.1633 - mae: 73.6604 - mape: 11.2516 - accuracy: 0.0000e+00\n",
            "Epoch 64/100\n",
            "88/88 [==============================] - 5s 59ms/step - loss: 82.4791 - mae: 82.9773 - mape: 14.3653 - accuracy: 0.0000e+00\n",
            "Epoch 65/100\n",
            "88/88 [==============================] - 5s 62ms/step - loss: 61.2962 - mae: 61.7938 - mape: 9.9891 - accuracy: 0.0000e+00\n",
            "Epoch 66/100\n",
            "88/88 [==============================] - 6s 64ms/step - loss: 56.0518 - mae: 56.5489 - mape: 9.0744 - accuracy: 0.0000e+00\n",
            "Epoch 67/100\n",
            "88/88 [==============================] - 5s 60ms/step - loss: 53.5979 - mae: 54.0949 - mape: 8.5874 - accuracy: 0.0000e+00\n",
            "Epoch 68/100\n",
            "88/88 [==============================] - 5s 59ms/step - loss: 53.1036 - mae: 53.6004 - mape: 8.4694 - accuracy: 0.0000e+00\n",
            "Epoch 69/100\n",
            "88/88 [==============================] - 5s 59ms/step - loss: 54.3454 - mae: 54.8425 - mape: 8.6664 - accuracy: 0.0000e+00\n",
            "Epoch 70/100\n",
            "88/88 [==============================] - 5s 59ms/step - loss: 52.2488 - mae: 52.7457 - mape: 8.3332 - accuracy: 0.0000e+00\n",
            "Epoch 71/100\n",
            "88/88 [==============================] - 5s 59ms/step - loss: 50.3137 - mae: 50.8103 - mape: 7.9561 - accuracy: 0.0000e+00\n",
            "Epoch 72/100\n",
            "88/88 [==============================] - 5s 59ms/step - loss: 50.3330 - mae: 50.8297 - mape: 7.9696 - accuracy: 0.0000e+00\n",
            "Epoch 73/100\n",
            "88/88 [==============================] - 5s 60ms/step - loss: 60.7211 - mae: 61.2180 - mape: 10.0138 - accuracy: 0.0000e+00\n",
            "Epoch 74/100\n",
            "88/88 [==============================] - 5s 60ms/step - loss: 61.3277 - mae: 61.8253 - mape: 10.0794 - accuracy: 0.0000e+00\n",
            "Epoch 75/100\n",
            "88/88 [==============================] - 5s 59ms/step - loss: 54.7409 - mae: 55.2378 - mape: 8.7118 - accuracy: 0.0000e+00\n",
            "Epoch 76/100\n",
            "88/88 [==============================] - 5s 60ms/step - loss: 51.9726 - mae: 52.4694 - mape: 8.2026 - accuracy: 0.0000e+00\n",
            "Epoch 77/100\n",
            "88/88 [==============================] - 5s 59ms/step - loss: 51.0484 - mae: 51.5452 - mape: 8.1077 - accuracy: 0.0000e+00\n",
            "Epoch 78/100\n",
            "88/88 [==============================] - 5s 59ms/step - loss: 50.6246 - mae: 51.1213 - mape: 8.0142 - accuracy: 0.0000e+00\n",
            "Epoch 79/100\n",
            "88/88 [==============================] - 5s 59ms/step - loss: 51.5825 - mae: 52.0793 - mape: 8.1924 - accuracy: 0.0000e+00\n",
            "Epoch 80/100\n",
            "88/88 [==============================] - 5s 59ms/step - loss: 54.4504 - mae: 54.9474 - mape: 8.6680 - accuracy: 0.0000e+00\n",
            "Epoch 81/100\n",
            "88/88 [==============================] - 5s 60ms/step - loss: 49.7864 - mae: 50.2831 - mape: 7.8539 - accuracy: 0.0000e+00\n",
            "Epoch 82/100\n",
            "88/88 [==============================] - 5s 60ms/step - loss: 49.4738 - mae: 49.9705 - mape: 7.8137 - accuracy: 0.0000e+00\n",
            "Epoch 83/100\n",
            "88/88 [==============================] - 5s 59ms/step - loss: 49.6279 - mae: 50.1246 - mape: 7.8717 - accuracy: 0.0000e+00\n",
            "Epoch 84/100\n",
            "88/88 [==============================] - 5s 59ms/step - loss: 50.7491 - mae: 51.2459 - mape: 8.0530 - accuracy: 0.0000e+00\n",
            "Epoch 85/100\n",
            "88/88 [==============================] - 5s 59ms/step - loss: 49.4083 - mae: 49.9049 - mape: 7.8068 - accuracy: 0.0000e+00\n",
            "Epoch 86/100\n",
            "88/88 [==============================] - 5s 59ms/step - loss: 52.5091 - mae: 53.0060 - mape: 8.3525 - accuracy: 0.0000e+00\n",
            "Epoch 87/100\n",
            "88/88 [==============================] - 5s 60ms/step - loss: 49.8914 - mae: 50.3881 - mape: 7.8879 - accuracy: 0.0000e+00\n",
            "Epoch 88/100\n",
            "88/88 [==============================] - 5s 60ms/step - loss: 49.0916 - mae: 49.5882 - mape: 7.7507 - accuracy: 0.0000e+00\n",
            "Epoch 89/100\n",
            "88/88 [==============================] - 5s 59ms/step - loss: 49.0575 - mae: 49.5542 - mape: 7.7357 - accuracy: 0.0000e+00\n",
            "Epoch 90/100\n",
            "88/88 [==============================] - 5s 60ms/step - loss: 49.0458 - mae: 49.5425 - mape: 7.7377 - accuracy: 0.0000e+00\n",
            "Epoch 91/100\n",
            "88/88 [==============================] - 5s 60ms/step - loss: 49.1984 - mae: 49.6951 - mape: 7.7698 - accuracy: 0.0000e+00\n",
            "Epoch 92/100\n",
            "88/88 [==============================] - 5s 59ms/step - loss: 48.8728 - mae: 49.3695 - mape: 7.7190 - accuracy: 0.0000e+00\n",
            "Epoch 93/100\n",
            "88/88 [==============================] - 5s 59ms/step - loss: 47.7478 - mae: 48.2444 - mape: 7.5248 - accuracy: 0.0000e+00\n",
            "Epoch 94/100\n",
            "88/88 [==============================] - 5s 59ms/step - loss: 48.6554 - mae: 49.1520 - mape: 7.6739 - accuracy: 0.0000e+00\n",
            "Epoch 95/100\n",
            "88/88 [==============================] - 5s 60ms/step - loss: 47.8279 - mae: 48.3245 - mape: 7.5307 - accuracy: 0.0000e+00\n",
            "Epoch 96/100\n",
            "88/88 [==============================] - 5s 59ms/step - loss: 54.9911 - mae: 55.4879 - mape: 8.6962 - accuracy: 0.0000e+00\n",
            "Epoch 97/100\n",
            "88/88 [==============================] - 5s 59ms/step - loss: 62.5535 - mae: 63.0509 - mape: 10.2893 - accuracy: 0.0000e+00\n",
            "Epoch 98/100\n",
            "88/88 [==============================] - 5s 59ms/step - loss: 49.9856 - mae: 50.4823 - mape: 7.8721 - accuracy: 0.0000e+00\n",
            "Epoch 99/100\n",
            "88/88 [==============================] - 5s 59ms/step - loss: 52.3300 - mae: 52.8267 - mape: 8.2862 - accuracy: 0.0000e+00\n",
            "Epoch 100/100\n",
            "88/88 [==============================] - 5s 59ms/step - loss: 49.0796 - mae: 49.5760 - mape: 7.7105 - accuracy: 0.0000e+00\n"
          ],
          "name": "stdout"
        }
      ]
    },
    {
      "cell_type": "code",
      "metadata": {
        "id": "CDrdrTnkFsTI",
        "outputId": "701d4bd3-b3bb-4fb5-a4c3-a31e388c85a5",
        "colab": {
          "base_uri": "https://localhost:8080/",
          "height": 388
        }
      },
      "source": [
        "rnn_forecast2 = model_forecast(model, series[..., np.newaxis], window_size)\n",
        "rnn_forecastx2 = rnn_forecast2[split_time - window_size:split_time, -1, 0]\n",
        "\n",
        "plt.figure(figsize=(10, 6))\n",
        "plot_series(time_valid, x_valid)\n",
        "plot_series(time_valid, rnn_forecastx2)\n"
      ],
      "execution_count": null,
      "outputs": [
        {
          "output_type": "display_data",
          "data": {
            "image/png": "[encoded data removed]",
            "text/plain": [
              "<Figure size 720x432 with 1 Axes>"
            ]
          },
          "metadata": {
            "tags": [],
            "needs_background": "light"
          }
        }
      ]
    },
    {
      "cell_type": "code",
      "metadata": {
        "id": "W5vJO1sOOAQq"
      },
      "source": [
        ""
      ],
      "execution_count": null,
      "outputs": []
    },
    {
      "cell_type": "code",
      "metadata": {
        "id": "13XrorC5wQoE",
        "outputId": "939560d5-a857-4b99-8e37-ce045db7282c",
        "colab": {
          "base_uri": "https://localhost:8080/",
          "height": 35
        }
      },
      "source": [
        "tf.keras.metrics.mean_absolute_error(x_valid, rnn_forecastx2).numpy()"
      ],
      "execution_count": null,
      "outputs": [
        {
          "output_type": "execute_result",
          "data": {
            "text/plain": [
              "26.557735"
            ]
          },
          "metadata": {
            "tags": []
          },
          "execution_count": 65
        }
      ]
    },
    {
      "cell_type": "code",
      "metadata": {
        "id": "ZpqvTsBS129w"
      },
      "source": [
        ""
      ],
      "execution_count": null,
      "outputs": []
    }
  ]
}